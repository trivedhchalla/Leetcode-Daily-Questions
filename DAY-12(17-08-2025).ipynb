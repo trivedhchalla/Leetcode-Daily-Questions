{
 "cells": [
  {
   "cell_type": "code",
   "execution_count": 1,
   "id": "23762d13",
   "metadata": {},
   "outputs": [],
   "source": [
    "# adding digits in num until u get a single digit ans like 18  1+8 = 9 return 9 \n",
    "class Solution:\n",
    "    def addDigits(self, num: int) -> int:\n",
    "        if(num < 10):\n",
    "            return num\n",
    "        sum_digit = 0\n",
    "        while(num != 0):\n",
    "            sum_digit += num%10\n",
    "            num = num//10\n",
    "        return self.addDigits(sum_digit)\n",
    "        "
   ]
  },
  {
   "cell_type": "code",
   "execution_count": 2,
   "id": "daacc6b6",
   "metadata": {},
   "outputs": [],
   "source": [
    "# not a ugly number is factors of 2,3,5 only\n",
    "class Solution:\n",
    "    def isUgly(self, n: int) -> bool:\n",
    "        if(n < 1):\n",
    "            return False\n",
    "        while(n > 1):\n",
    "            if(n%2 == 0):\n",
    "                n = n // 2\n",
    "            elif(n % 3 == 0):\n",
    "                n = n // 3\n",
    "            elif(n % 5 == 0):\n",
    "                n = n // 5\n",
    "            else:\n",
    "                return False\n",
    "        return True"
   ]
  }
 ],
 "metadata": {
  "kernelspec": {
   "display_name": "Python 3",
   "language": "python",
   "name": "python3"
  },
  "language_info": {
   "codemirror_mode": {
    "name": "ipython",
    "version": 3
   },
   "file_extension": ".py",
   "mimetype": "text/x-python",
   "name": "python",
   "nbconvert_exporter": "python",
   "pygments_lexer": "ipython3",
   "version": "3.13.5"
  }
 },
 "nbformat": 4,
 "nbformat_minor": 5
}
