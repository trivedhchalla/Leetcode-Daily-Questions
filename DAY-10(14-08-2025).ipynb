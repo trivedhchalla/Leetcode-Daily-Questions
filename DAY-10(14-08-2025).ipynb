{
 "cells": [
  {
   "cell_type": "code",
   "execution_count": null,
   "id": "57e49d01",
   "metadata": {},
   "outputs": [],
   "source": [
    "# highest 3 digits no in a string\n",
    "class Solution:\n",
    "    def largestGoodInteger(self, num: str) -> str:\n",
    "        i = 0\n",
    "        max_num = -1\n",
    "        while(i < len(num) - 2):\n",
    "            if(num[i] == num[i+1] == num[i+2]):\n",
    "                if(int(num[i]+num[i+1]+num[i+2]) > int(max_num)):\n",
    "                    max_num = num[i]+num[i+1]+num[i+2]\n",
    "                i += 3\n",
    "            else:\n",
    "                i += 1\n",
    "        return max_num if(max_num != -1) else \"\""
   ]
  }
 ],
 "metadata": {
  "language_info": {
   "name": "python"
  }
 },
 "nbformat": 4,
 "nbformat_minor": 5
}
