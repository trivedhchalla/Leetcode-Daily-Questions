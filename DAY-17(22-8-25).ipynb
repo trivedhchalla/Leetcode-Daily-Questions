{
 "cells": [
  {
   "cell_type": "code",
   "execution_count": 1,
   "id": "15ea3d37",
   "metadata": {},
   "outputs": [],
   "source": [
    "# duplicate in an array\n",
    "from collections import Counter\n",
    "class Solution:\n",
    "    def containsDuplicate(self, nums: list[int]) -> bool:\n",
    "        return False if(len(set(nums)) == len(nums)) else True\n",
    "        # More time taking approach \n",
    "        # dct = Counter(nums)\n",
    "        # for val in dct.values():\n",
    "        #     if(val >= 2): \n",
    "        #         return True\n",
    "        # return False"
   ]
  }
 ],
 "metadata": {
  "kernelspec": {
   "display_name": "Python 3",
   "language": "python",
   "name": "python3"
  },
  "language_info": {
   "codemirror_mode": {
    "name": "ipython",
    "version": 3
   },
   "file_extension": ".py",
   "mimetype": "text/x-python",
   "name": "python",
   "nbconvert_exporter": "python",
   "pygments_lexer": "ipython3",
   "version": "3.13.5"
  }
 },
 "nbformat": 4,
 "nbformat_minor": 5
}
