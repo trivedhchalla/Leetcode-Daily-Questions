{
 "cells": [
  {
   "cell_type": "code",
   "execution_count": 3,
   "id": "e61d23a9",
   "metadata": {},
   "outputs": [],
   "source": [
    "# first appearing unique number\n",
    "from collections import Counter\n",
    "class Solution:\n",
    "    def firstUniqChar(self, s: str) -> int:\n",
    "        hashmap = Counter(s)\n",
    "        for key in hashmap.keys():\n",
    "            if(hashmap[key] == 1):\n",
    "                return s.index(key)\n",
    "        return -1  "
   ]
  },
  {
   "cell_type": "code",
   "execution_count": null,
   "id": "555528ab",
   "metadata": {},
   "outputs": [],
   "source": []
  }
 ],
 "metadata": {
  "kernelspec": {
   "display_name": "Python 3",
   "language": "python",
   "name": "python3"
  },
  "language_info": {
   "codemirror_mode": {
    "name": "ipython",
    "version": 3
   },
   "file_extension": ".py",
   "mimetype": "text/x-python",
   "name": "python",
   "nbconvert_exporter": "python",
   "pygments_lexer": "ipython3",
   "version": "3.13.5"
  }
 },
 "nbformat": 4,
 "nbformat_minor": 5
}
