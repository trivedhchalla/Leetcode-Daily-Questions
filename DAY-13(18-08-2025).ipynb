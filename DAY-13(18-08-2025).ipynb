{
 "cells": [
  {
   "cell_type": "code",
   "execution_count": null,
   "id": "b8b27e43",
   "metadata": {},
   "outputs": [],
   "source": [
    "# no of studnets unable to eat lunch \n",
    "from collections import deque\n",
    "class Solution:\n",
    "    def countStudents(self, students: list[int], sandwiches: list[int]) -> int:\n",
    "        stud = deque(students)\n",
    "        sand = deque(sandwiches)\n",
    "        count = 0\n",
    "        while(stud and sand):\n",
    "            if(stud[0] == sand[0]):\n",
    "                stud.popleft()\n",
    "                sand.popleft()\n",
    "                count = 0\n",
    "            else:\n",
    "                stud.append(stud.popleft())\n",
    "                count += 1\n",
    "            if(count > len(stud)):\n",
    "                return len(stud)\n",
    "        return len(stud)"
   ]
  }
 ],
 "metadata": {
  "language_info": {
   "name": "python"
  }
 },
 "nbformat": 4,
 "nbformat_minor": 5
}
