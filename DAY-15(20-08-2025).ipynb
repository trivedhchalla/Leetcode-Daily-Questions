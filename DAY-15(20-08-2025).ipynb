{
 "cells": [
  {
   "cell_type": "code",
   "execution_count": null,
   "id": "3e6269b2",
   "metadata": {},
   "outputs": [],
   "source": [
    "class ListNode:\n",
    "    def __init__(self, val=0, next=None):\n",
    "        self.val = val\n",
    "        self.next = next\n",
    "class Solution:\n",
    "    def removeElements(self, head: ListNode, val: int) -> ListNode:\n",
    "        if(not head):\n",
    "            return head\n",
    "        prev = None\n",
    "        curr = head\n",
    "        while(curr and head):\n",
    "            if(curr.val == val):\n",
    "                if(prev and prev.next):\n",
    "                    prev.next = curr.next\n",
    "                else:\n",
    "                    head = head.next\n",
    "                curr =  curr.next#imp we have to update only curr if we update prev as well then the number will be missed\n",
    "            else:\n",
    "                prev = curr \n",
    "                curr =  curr.next\n",
    "        return head\n",
    "        \"\"\"\n",
    "        Approach - 1:Normal way\n",
    "        \"\"\"\n",
    "        # new_head = ListNode(0)\n",
    "        # curr_new = new_head\n",
    "        # curr = head\n",
    "        # while(curr):\n",
    "        #     if(curr.val != val):\n",
    "        #         curr_new.next = ListNode(curr.val)\n",
    "        #         curr_new = curr_new.next\n",
    "        #     curr = curr.next \n",
    "        # return new_head.next\n",
    "        "
   ]
  }
 ],
 "metadata": {
  "language_info": {
   "name": "python"
  }
 },
 "nbformat": 4,
 "nbformat_minor": 5
}
