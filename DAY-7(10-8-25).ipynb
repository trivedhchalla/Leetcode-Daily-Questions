{
 "cells": [
  {
   "cell_type": "code",
   "execution_count": 2,
   "id": "f1ceb3db",
   "metadata": {},
   "outputs": [],
   "source": [
    "from collections import Counter\n",
    "class Solution:\n",
    "    def majorityElement(self, nums: list[int]) -> int:\n",
    "        dct = Counter(nums)\n",
    "        max_val = -float('inf')\n",
    "        max_key = 0\n",
    "        for key,val in dct.items():\n",
    "            if(val >= len(nums)/2):\n",
    "                return key"
   ]
  }
 ],
 "metadata": {
  "kernelspec": {
   "display_name": "Python 3",
   "language": "python",
   "name": "python3"
  },
  "language_info": {
   "codemirror_mode": {
    "name": "ipython",
    "version": 3
   },
   "file_extension": ".py",
   "mimetype": "text/x-python",
   "name": "python",
   "nbconvert_exporter": "python",
   "pygments_lexer": "ipython3",
   "version": "3.13.5"
  }
 },
 "nbformat": 4,
 "nbformat_minor": 5
}
