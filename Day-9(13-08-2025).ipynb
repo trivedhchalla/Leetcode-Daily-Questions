{
 "cells": [
  {
   "cell_type": "code",
   "execution_count": 1,
   "id": "b3f162aa",
   "metadata": {},
   "outputs": [],
   "source": [
    "# happy number\n",
    "class Solution:\n",
    "    def isHappy(self, n: int) -> bool:\n",
    "        seen = set()\n",
    "        def dig_sum(n):\n",
    "            sum = 0\n",
    "            while(n != 0):\n",
    "                sum += (n%10)**2\n",
    "                n = n//10\n",
    "            return sum\n",
    "        n = dig_sum(n) \n",
    "        # first logic was mistake will always be False\n",
    "        while(n not in seen):\n",
    "            seen.add(n)\n",
    "            if(n == 1):\n",
    "                return True\n",
    "            n = dig_sum(n)            \n",
    "        return False"
   ]
  },
  {
   "cell_type": "code",
   "execution_count": 2,
   "id": "9b77f8ad",
   "metadata": {},
   "outputs": [],
   "source": [
    "# reverse vowels in a string \n",
    "from collections import Counter\n",
    "class Solution:\n",
    "    def reverseVowels(self, s: str) -> str:\n",
    "        ans = list(s)\n",
    "        vowels = Counter([\"a\",\"e\",\"i\",\"o\",\"u\",\"A\",\"E\",\"I\",\"O\",\"U\"])\n",
    "        start = 0\n",
    "        end = len(s) - 1\n",
    "        while(start <= end):\n",
    "            res_start = vowels.get(s[start])\n",
    "            res_end = vowels.get(s[end])\n",
    "            if(res_start == res_end == 1):\n",
    "                ans[start],ans[end] = ans[end],ans[start]\n",
    "                start += 1\n",
    "                end -= 1\n",
    "            elif(res_start == 1):\n",
    "                end -= 1\n",
    "            elif(res_end == 1):\n",
    "                start += 1\n",
    "            else:\n",
    "                start += 1\n",
    "                end -= 1\n",
    "        return ''.join(ans)\n"
   ]
  },
  {
   "cell_type": "code",
   "execution_count": 6,
   "id": "150cfabc",
   "metadata": {},
   "outputs": [],
   "source": [
    "# intersection of 2 arrays\n",
    "from collections import Counter\n",
    "class Solution:\n",
    "    def intersect(self, nums1: list[int], nums2: list[int]) -> list[int]:\n",
    "        intersect = []\n",
    "        dct1 = Counter(nums1)\n",
    "        dct2 = Counter(nums2)\n",
    "        n = list(dct1.keys())\n",
    "        n.extend(list(dct2.keys()))\n",
    "        nums = set(n)\n",
    "        for num in nums:\n",
    "            in_one = dct1.get(num,0)\n",
    "            in_sec = dct2.get(num,0) \n",
    "            intersect.extend([num]*min(in_one,in_sec))\n",
    "        return intersect\n"
   ]
  }
 ],
 "metadata": {
  "kernelspec": {
   "display_name": "Python 3",
   "language": "python",
   "name": "python3"
  },
  "language_info": {
   "codemirror_mode": {
    "name": "ipython",
    "version": 3
   },
   "file_extension": ".py",
   "mimetype": "text/x-python",
   "name": "python",
   "nbconvert_exporter": "python",
   "pygments_lexer": "ipython3",
   "version": "3.13.5"
  }
 },
 "nbformat": 4,
 "nbformat_minor": 5
}
