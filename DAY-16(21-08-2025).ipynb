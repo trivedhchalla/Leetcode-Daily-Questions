{
 "cells": [
  {
   "cell_type": "code",
   "execution_count": 1,
   "id": "decd8a73",
   "metadata": {},
   "outputs": [],
   "source": [
    "# square number or not\n",
    "class Solution:\n",
    "    def isPerfectSquare(self, num: int) -> bool:\n",
    "        def squarert(num):\n",
    "            start = 0\n",
    "            end = num \n",
    "            mid = num // 2\n",
    "            while(start <= end):\n",
    "                if(mid**2 == num):\n",
    "                    return mid\n",
    "                elif(mid**2 < num):\n",
    "                    start = mid + 1\n",
    "                else:\n",
    "                    end = mid - 1\n",
    "                mid = start + (end - start)//2\n",
    "            return end\n",
    "        rt = squarert(num)\n",
    "        return rt**2 == num"
   ]
  },
  {
   "cell_type": "code",
   "execution_count": null,
   "id": "2cd3bdb2",
   "metadata": {},
   "outputs": [],
   "source": []
  }
 ],
 "metadata": {
  "kernelspec": {
   "display_name": "Python 3",
   "language": "python",
   "name": "python3"
  },
  "language_info": {
   "codemirror_mode": {
    "name": "ipython",
    "version": 3
   },
   "file_extension": ".py",
   "mimetype": "text/x-python",
   "name": "python",
   "nbconvert_exporter": "python",
   "pygments_lexer": "ipython3",
   "version": "3.13.5"
  }
 },
 "nbformat": 4,
 "nbformat_minor": 5
}
