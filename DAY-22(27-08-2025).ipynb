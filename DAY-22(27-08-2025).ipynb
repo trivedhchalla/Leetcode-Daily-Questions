{
 "cells": [
  {
   "cell_type": "code",
   "execution_count": 1,
   "id": "2a546d99",
   "metadata": {},
   "outputs": [],
   "source": [
    "# anagram check if s is permutaion of t\n",
    "from collections import Counter\n",
    "class Solution:\n",
    "    def isAnagram(self, s: str, t: str) -> bool:\n",
    "        if(len(s) != len(t)):\n",
    "            return False\n",
    "        s = Counter(s)\n",
    "        t = Counter(t)\n",
    "        for key,val in s.items():\n",
    "            if(s[key] != t[key]):\n",
    "                return False\n",
    "        return True\n"
   ]
  }
 ],
 "metadata": {
  "kernelspec": {
   "display_name": "Python 3",
   "language": "python",
   "name": "python3"
  },
  "language_info": {
   "codemirror_mode": {
    "name": "ipython",
    "version": 3
   },
   "file_extension": ".py",
   "mimetype": "text/x-python",
   "name": "python",
   "nbconvert_exporter": "python",
   "pygments_lexer": "ipython3",
   "version": "3.13.5"
  }
 },
 "nbformat": 4,
 "nbformat_minor": 5
}
