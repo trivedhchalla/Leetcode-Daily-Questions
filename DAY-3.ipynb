{
 "cells": [
  {
   "cell_type": "code",
   "execution_count": 2,
   "id": "2b2e6cd9",
   "metadata": {},
   "outputs": [],
   "source": [
    "class Solution:\n",
    "    def findKthPositive(self, arr:int, k: int) -> int:\n",
    "        def bin_search(arr,i):\n",
    "            strt = 0\n",
    "            end = len(arr) - 1\n",
    "            while(strt <= end):\n",
    "                mid = (strt) + (end -strt)//2\n",
    "                if(arr[mid] == i):\n",
    "                    return True\n",
    "                elif(arr[mid] > i):\n",
    "                    end = mid -1\n",
    "                else:\n",
    "                    strt = mid + 1\n",
    "            return False\n",
    "        missing = []\n",
    "        i = 1\n",
    "        while(len(missing)< k):\n",
    "            if(not bin_search(arr,i)):\n",
    "                missing.append(i)\n",
    "            i += 1\n",
    "        return missing[k - 1]"
   ]
  }
 ],
 "metadata": {
  "kernelspec": {
   "display_name": "Python 3",
   "language": "python",
   "name": "python3"
  },
  "language_info": {
   "codemirror_mode": {
    "name": "ipython",
    "version": 3
   },
   "file_extension": ".py",
   "mimetype": "text/x-python",
   "name": "python",
   "nbconvert_exporter": "python",
   "pygments_lexer": "ipython3",
   "version": "3.13.5"
  }
 },
 "nbformat": 4,
 "nbformat_minor": 5
}
