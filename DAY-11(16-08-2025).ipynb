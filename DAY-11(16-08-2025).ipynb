{
 "cells": [
  {
   "cell_type": "code",
   "execution_count": null,
   "id": "c2cbf38d",
   "metadata": {},
   "outputs": [],
   "source": [
    "# in a string change any one 6 -> 9 or vice versa st the resulting num is max value with that digits permutation\n",
    "class Solution:\n",
    "    def maximum69Number (self, num: int) -> int:\n",
    "        ans = []\n",
    "        number = list(str(num))\n",
    "        for i in range(len(number)):\n",
    "            if(number[i] == \"6\"):\n",
    "                number[i] = \"9\"\n",
    "                return int(''.join(number))\n",
    "        return num"
   ]
  }
 ],
 "metadata": {
  "language_info": {
   "name": "python"
  }
 },
 "nbformat": 4,
 "nbformat_minor": 5
}
