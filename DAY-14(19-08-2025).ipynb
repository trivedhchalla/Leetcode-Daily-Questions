{
 "cells": [
  {
   "cell_type": "code",
   "execution_count": 1,
   "id": "7d308bd0",
   "metadata": {},
   "outputs": [],
   "source": [
    "# base ball games final score is returned\n",
    "class Solution:\n",
    "    def calPoints(self, operations: list[str]) -> int:\n",
    "        stack_ = []\n",
    "        for operation in operations:\n",
    "            if(\"C\" == operation):\n",
    "                try:\n",
    "                    stack_.pop()\n",
    "                except:\n",
    "                    pass\n",
    "            elif(operation == \"D\"):\n",
    "                try:\n",
    "                    stack_.append(stack_[-1]*2)\n",
    "                except:\n",
    "                    pass\n",
    "            elif(\"+\" == operation):\n",
    "                try:\n",
    "                    stack_.append(stack_[-1] + stack_[-2])\n",
    "                except:\n",
    "                    pass\n",
    "            else:\n",
    "                stack_.append(int(operation))\n",
    "        return sum(stack_)"
   ]
  },
  {
   "cell_type": "code",
   "execution_count": null,
   "id": "756db2fb",
   "metadata": {},
   "outputs": [],
   "source": []
  }
 ],
 "metadata": {
  "kernelspec": {
   "display_name": "Python 3",
   "language": "python",
   "name": "python3"
  },
  "language_info": {
   "codemirror_mode": {
    "name": "ipython",
    "version": 3
   },
   "file_extension": ".py",
   "mimetype": "text/x-python",
   "name": "python",
   "nbconvert_exporter": "python",
   "pygments_lexer": "ipython3",
   "version": "3.13.5"
  }
 },
 "nbformat": 4,
 "nbformat_minor": 5
}
