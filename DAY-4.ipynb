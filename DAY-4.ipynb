{
 "cells": [
  {
   "cell_type": "code",
   "execution_count": 1,
   "id": "d634b0c0",
   "metadata": {},
   "outputs": [],
   "source": [
    "# pivot index sum-left == sum-right\n",
    "class Solution:\n",
    "    def pivotIndex(self, nums:int) -> int:\n",
    "        total = sum(nums)\n",
    "        sum_left = 0\n",
    "        for i in range(0,len(nums)):\n",
    "            total -= nums[i]\n",
    "            if(total == sum_left):\n",
    "                return i \n",
    "            sum_left += nums[i]\n",
    "        return -1 "
   ]
  },
  {
   "cell_type": "code",
   "execution_count": 2,
   "id": "3c87a5c0",
   "metadata": {},
   "outputs": [],
   "source": [
    "# longest prefix\n",
    "class Solution:\n",
    "    def longestCommonPrefix(self, strs:str) -> str:\n",
    "        def long_pre(strs,min_str,min_len):\n",
    "            if(len(strs[0]) == 0):\n",
    "                return \"\"\n",
    "            min_str = min_str[:min_len]\n",
    "            count = 0\n",
    "            for s in strs:\n",
    "                if(s[:min_len] == min_str):\n",
    "                    count += 1\n",
    "            if(count == len(strs)):\n",
    "                return min_str\n",
    "            return long_pre(strs,min_str,min_len - 1)\n",
    "        len_arr = [len(s) for s in strs]\n",
    "        min_indx = len_arr.index(min(len_arr))\n",
    "        min_str = strs[min_indx]\n",
    "        min_len = len(min_str)\n",
    "        ans = long_pre(strs,min_str,min_len)\n",
    "        return ans"
   ]
  },
  {
   "cell_type": "code",
   "execution_count": null,
   "id": "f87f2a56",
   "metadata": {},
   "outputs": [],
   "source": [
    "# set row and column as zero if row have one zero\n",
    "class Solution:\n",
    "    def setZeroes(self, matrix: list[list[int]]) -> None:\n",
    "        \"\"\"\n",
    "        Do not return anything, modify matrix in-place instead.\n",
    "        \"\"\"\n",
    "        col_to_zero = []\n",
    "        for indx,row in enumerate(matrix):\n",
    "            zero = False\n",
    "            # column = []\n",
    "            for i,if_zero in enumerate(row):\n",
    "                if(if_zero == 0):\n",
    "                    col_to_zero.append(i)\n",
    "                    zero = True\n",
    "            if(zero):\n",
    "                row = [0]*len(row)\n",
    "                matrix[indx] = row\n",
    "        for zero in col_to_zero:\n",
    "            for row in matrix:\n",
    "                row[zero] = 0"
   ]
  },
  {
   "cell_type": "code",
   "execution_count": 4,
   "id": "f310aa00",
   "metadata": {},
   "outputs": [],
   "source": [
    "# Search in 2D sorted array\n",
    "class Solution:\n",
    "    def searchMatrix(self, matrix: list[list[int]], target: int) -> bool:\n",
    "        def bin_search(arr,target):\n",
    "            start = 0\n",
    "            end = len(arr) - 1 \n",
    "            while(start <= end):\n",
    "                mid = start + (end - start)//2\n",
    "                if(arr[mid] == target):\n",
    "                    return True\n",
    "                elif(arr[mid] > target):\n",
    "                    end = mid - 1 \n",
    "                else:\n",
    "                    start = mid + 1\n",
    "            return False\n",
    "        if(len(matrix) == 1):\n",
    "            arrToSearch = matrix[0]\n",
    "            return bin_search(arrToSearch,target)\n",
    "        start = 0\n",
    "        end = len(matrix) - 1\n",
    "        mid = start + (end - start)//2\n",
    "        row = -1\n",
    "        while(start <= end):\n",
    "            if(matrix[mid][-1] == target):\n",
    "                return True\n",
    "            elif(matrix[mid][-1] > target):\n",
    "                row = mid\n",
    "                end = mid - 1\n",
    "            else:\n",
    "                start = mid + 1\n",
    "            mid = start + (end - start)//2\n",
    "        if(row == -1 ):\n",
    "            return False\n",
    "        return bin_search(matrix[row],target)"
   ]
  }
 ],
 "metadata": {
  "kernelspec": {
   "display_name": "Python 3",
   "language": "python",
   "name": "python3"
  },
  "language_info": {
   "codemirror_mode": {
    "name": "ipython",
    "version": 3
   },
   "file_extension": ".py",
   "mimetype": "text/x-python",
   "name": "python",
   "nbconvert_exporter": "python",
   "pygments_lexer": "ipython3",
   "version": "3.13.5"
  }
 },
 "nbformat": 4,
 "nbformat_minor": 5
}
