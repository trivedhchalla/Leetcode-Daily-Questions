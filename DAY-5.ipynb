{
 "cells": [
  {
   "cell_type": "code",
   "execution_count": 1,
   "id": "597e742d",
   "metadata": {},
   "outputs": [],
   "source": [
    "#  Excel Column Title\n",
    "import string\n",
    "class Solution:\n",
    "    def convertToTitle(self, columnNumber: int) -> str:\n",
    "        alpha = string.ascii_uppercase\n",
    "        num = columnNumber\n",
    "        res = []\n",
    "        while (num != 0):\n",
    "            num -= 1\n",
    "            res.append(alpha[num%26])\n",
    "            num = num // 26\n",
    "        return \"\".join(res[::-1])"
   ]
  }
 ],
 "metadata": {
  "kernelspec": {
   "display_name": "Python 3",
   "language": "python",
   "name": "python3"
  },
  "language_info": {
   "codemirror_mode": {
    "name": "ipython",
    "version": 3
   },
   "file_extension": ".py",
   "mimetype": "text/x-python",
   "name": "python",
   "nbconvert_exporter": "python",
   "pygments_lexer": "ipython3",
   "version": "3.13.5"
  }
 },
 "nbformat": 4,
 "nbformat_minor": 5
}
