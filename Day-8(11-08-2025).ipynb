{
 "cells": [
  {
   "cell_type": "code",
   "execution_count": 1,
   "id": "51198875",
   "metadata": {},
   "outputs": [],
   "source": [
    "# searching the pivot value in a array sorted and rotated one\n",
    "class Solution:\n",
    "    def findMin(self, nums: list[int]) -> int:\n",
    "        if(nums[0] <= nums[-1]):\n",
    "            return nums[0]\n",
    "        def pivot(nums):\n",
    "            arr = nums\n",
    "            start = 0\n",
    "            end = len(nums) - 1\n",
    "            while(start <= end):\n",
    "                mid = start + (end - start)//2\n",
    "                if(mid < end) and (arr[mid + 1] <= arr[mid]):\n",
    "                    return arr[mid + 1]\n",
    "                elif(arr[mid] > arr[end]):\n",
    "                    start = mid + 1\n",
    "                elif(arr[mid] < arr[start]):\n",
    "                    end = mid \n",
    "                else:\n",
    "                    end = mid - 1\n",
    "            return nums[0]\n",
    "        return pivot(nums)"
   ]
  },
  {
   "cell_type": "code",
   "execution_count": 2,
   "metadata": {},
   "outputs": [],
   "source": [
    "# Reverse the order of bits in a number and return result number\n",
    "class Solution:\n",
    "    def reverseBits(self, n: int) -> int:\n",
    "        # bit manipulation\n",
    "        ans = 0\n",
    "        i = 31\n",
    "        while(n != 0):\n",
    "            ans += (n & 1)*(2**i)\n",
    "            i -= 1\n",
    "            n = n >> 1\n",
    "        return ans"
   ]
  },
  {
   "cell_type": "code",
   "execution_count": 3,
   "id": "5b9df2e4",
   "metadata": {},
   "outputs": [],
   "source": [
    "# reverse an array of characters\n",
    "class Solution:\n",
    "    def reverseString(self, s: list[str]) -> None:\n",
    "        \"\"\"\n",
    "        Do not return anything, modify s in-place instead.\n",
    "        \"\"\"\n",
    "        i = 0\n",
    "        while(i < len(s)//2):\n",
    "            s[i] , s[len(s) - i -1] = s[len(s) - i -1] , s[i]\n",
    "            i += 1\n",
    "        return s\n",
    "    # recursion technique for reversal\n",
    "        # n = len(s)\n",
    "        # def swap(i):\n",
    "        #     if(i >= len(s)//2):\n",
    "        #         return\n",
    "        #     s[i] , s[n - i - 1] = s[n - i - 1],s[i]\n",
    "        #     return swap(i+1)\n",
    "        # return swap(0)\n"
   ]
  },
  {
   "cell_type": "code",
   "execution_count": null,
   "id": "c474349e",
   "metadata": {},
   "outputs": [],
   "source": []
  }
 ],
 "metadata": {
  "kernelspec": {
   "display_name": "Python 3",
   "language": "python",
   "name": "python3"
  },
  "language_info": {
   "codemirror_mode": {
    "name": "ipython",
    "version": 3
   },
   "file_extension": ".py",
   "mimetype": "text/x-python",
   "name": "python",
   "nbconvert_exporter": "python",
   "pygments_lexer": "ipython3",
   "version": "3.13.5"
  }
 },
 "nbformat": 4,
 "nbformat_minor": 5
}
