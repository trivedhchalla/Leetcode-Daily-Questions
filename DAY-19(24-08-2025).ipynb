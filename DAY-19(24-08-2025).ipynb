{
 "cells": [
  {
   "cell_type": "code",
   "execution_count": 1,
   "id": "a18a143b",
   "metadata": {},
   "outputs": [],
   "source": [
    "# duplicate element\n",
    "class Solution:\n",
    "    def containsNearbyDuplicate(self, nums: list[int], k: int) -> bool:\n",
    "        exsisting = {}\n",
    "        for i , num in enumerate(nums):\n",
    "        # seen dict use hashtable search is o(1)\n",
    "            if(num in exsisting and i - exsisting[num] <= k):\n",
    "                return True\n",
    "            # we have to update since if condition is not satisfied either num not in dict that case get added but in case of greater than k then no need to store it since if we find another also that also we be greater so will update it with new index with same number\n",
    "            exsisting[num] = i\n",
    "        return False\n",
    "        \n",
    "\n",
    "        # O(nlogn) Approach\n",
    "        # seen = []\n",
    "        # for i,num in enumerate(nums):\n",
    "        #     seen.append((num,i))\n",
    "        # seen.sort(key=lambda x : x[0])\n",
    "        # for i in range(len(seen) - 1):\n",
    "        #     tup = seen[i]\n",
    "        #     if(tup[0] == seen[i+1][0] and abs(tup[1] - seen[i+1][1]) <= k):\n",
    "        #         return True\n",
    "        # return False"
   ]
  },
  {
   "cell_type": "code",
   "execution_count": 2,
   "id": "63140136",
   "metadata": {},
   "outputs": [],
   "source": [
    "# missing numbers\n",
    "from collections import Counter\n",
    "class Solution:\n",
    "    def findDisappearedNumbers(self, nums: list[int]) -> list[int]:\n",
    "        dct = Counter(nums)\n",
    "        ans = []\n",
    "        for i in range(1,len(nums)+1):\n",
    "            if(i not in dct):   \n",
    "                ans.append(i)\n",
    "        return ans"
   ]
  }
 ],
 "metadata": {
  "kernelspec": {
   "display_name": "Python 3",
   "language": "python",
   "name": "python3"
  },
  "language_info": {
   "codemirror_mode": {
    "name": "ipython",
    "version": 3
   },
   "file_extension": ".py",
   "mimetype": "text/x-python",
   "name": "python",
   "nbconvert_exporter": "python",
   "pygments_lexer": "ipython3",
   "version": "3.13.5"
  }
 },
 "nbformat": 4,
 "nbformat_minor": 5
}
